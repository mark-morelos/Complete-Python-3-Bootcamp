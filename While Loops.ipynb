{
 "cells": [
  {
   "cell_type": "markdown",
   "id": "b2a6a6d0",
   "metadata": {},
   "source": [
    "while some_boolean_condition - while syntax"
   ]
  },
  {
   "cell_type": "code",
   "execution_count": 1,
   "id": "52a0ef66",
   "metadata": {},
   "outputs": [
    {
     "name": "stdout",
     "output_type": "stream",
     "text": [
      "The current value of x is 0\n",
      "The current value of x is 1\n",
      "The current value of x is 2\n",
      "The current value of x is 3\n",
      "The current value of x is 4\n"
     ]
    }
   ],
   "source": [
    "x = 0\n",
    "\n",
    "while x < 5:\n",
    "    print (f'The current value of x is {x}')\n",
    "    x = x + 1\n",
    "    \n",
    "# x = 0\n",
    "\n",
    "# while x < 5:\n",
    "#    print (f'The current value of x is {x}')\n",
    "#    x =+ 1"
   ]
  },
  {
   "cell_type": "code",
   "execution_count": 1,
   "id": "b3a24bab",
   "metadata": {},
   "outputs": [
    {
     "name": "stdout",
     "output_type": "stream",
     "text": [
      "The current value of y is 0\n",
      "The current value of y is 1\n",
      "The current value of y is 2\n",
      "The current value of y is 3\n",
      "The current value of y is 4\n",
      "X IS NOT LESS THAN 5\n"
     ]
    }
   ],
   "source": [
    "y = 0\n",
    "\n",
    "while y < 5:\n",
    "    print(f'The current value of y is {y}')\n",
    "    \n",
    "    y += 1\n",
    "else: print(\"X IS NOT LESS THAN 5\")"
   ]
  },
  {
   "cell_type": "code",
   "execution_count": 2,
   "id": "9665c7e5",
   "metadata": {},
   "outputs": [
    {
     "name": "stdout",
     "output_type": "stream",
     "text": [
      "Z IS NOT LESS THAN 5\n"
     ]
    }
   ],
   "source": [
    "z = 50\n",
    "\n",
    "while z < 5:\n",
    "    print(f'The current value of z is {z}')\n",
    "    \n",
    "    z += 1\n",
    "else: print(\"Z IS NOT LESS THAN 5\")"
   ]
  },
  {
   "cell_type": "markdown",
   "id": "017d2b38",
   "metadata": {},
   "source": [
    "<b> break, continue, pass</b>\n",
    "\n",
    "<br>\n",
    "<br>We can use break, continue, and pass statements in out loops to add additional functionality for various cases. The three statements are defined by:\n",
    "    <br> break: Breaks out of the current closest enclosing loop.\n",
    "    <br> continue: Goes to the top of the closest enclosing loop.\n",
    "    <br> pass: Does nothing at all."
   ]
  },
  {
   "cell_type": "code",
   "execution_count": 3,
   "id": "62068683",
   "metadata": {},
   "outputs": [
    {
     "name": "stdout",
     "output_type": "stream",
     "text": [
      "end of my script\n"
     ]
    }
   ],
   "source": [
    "x = [1,2,3]\n",
    "\n",
    "for item in x:\n",
    "    #comment\n",
    "    pass\n",
    "\n",
    "print ('end of my script')"
   ]
  },
  {
   "cell_type": "code",
   "execution_count": 4,
   "id": "82824ef9",
   "metadata": {},
   "outputs": [],
   "source": [
    "mystring = 'Sammy'"
   ]
  },
  {
   "cell_type": "code",
   "execution_count": 6,
   "id": "0ee71624",
   "metadata": {},
   "outputs": [
    {
     "name": "stdout",
     "output_type": "stream",
     "text": [
      "S\n",
      "m\n",
      "m\n",
      "y\n"
     ]
    }
   ],
   "source": [
    "for letter in mystring:\n",
    "    if letter == 'a':\n",
    "        continue\n",
    "    print(letter)"
   ]
  },
  {
   "cell_type": "code",
   "execution_count": 7,
   "id": "f1ff4258",
   "metadata": {},
   "outputs": [
    {
     "name": "stdout",
     "output_type": "stream",
     "text": [
      "S\n"
     ]
    }
   ],
   "source": [
    "for letter in mystring:\n",
    "    if letter == 'a':\n",
    "        break\n",
    "    print(letter)"
   ]
  },
  {
   "cell_type": "code",
   "execution_count": 8,
   "id": "bcdf23f4",
   "metadata": {},
   "outputs": [
    {
     "name": "stdout",
     "output_type": "stream",
     "text": [
      "0\n",
      "1\n"
     ]
    }
   ],
   "source": [
    "x = 0\n",
    "\n",
    "while x < 5:\n",
    "    \n",
    "    if x == 2:\n",
    "        break\n",
    "    print(x)\n",
    "    x += 1"
   ]
  },
  {
   "cell_type": "code",
   "execution_count": null,
   "id": "e1a53ee4",
   "metadata": {},
   "outputs": [],
   "source": []
  }
 ],
 "metadata": {
  "kernelspec": {
   "display_name": "Python 3 (ipykernel)",
   "language": "python",
   "name": "python3"
  },
  "language_info": {
   "codemirror_mode": {
    "name": "ipython",
    "version": 3
   },
   "file_extension": ".py",
   "mimetype": "text/x-python",
   "name": "python",
   "nbconvert_exporter": "python",
   "pygments_lexer": "ipython3",
   "version": "3.9.12"
  }
 },
 "nbformat": 4,
 "nbformat_minor": 5
}
