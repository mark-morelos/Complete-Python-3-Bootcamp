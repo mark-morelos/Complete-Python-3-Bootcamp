{
 "cells": [
  {
   "cell_type": "code",
   "execution_count": 1,
   "id": "09cb228b",
   "metadata": {},
   "outputs": [
    {
     "data": {
      "text/plain": [
       "'/Users/mmorelos/Desktop/Complete-Python-3-Bootcamp/12-Advanced Python Modules'"
      ]
     },
     "execution_count": 1,
     "metadata": {},
     "output_type": "execute_result"
    }
   ],
   "source": [
    "pwd"
   ]
  },
  {
   "cell_type": "code",
   "execution_count": 2,
   "id": "62c37698",
   "metadata": {},
   "outputs": [],
   "source": [
    "f = open('practice.txt','w+')\n",
    "f.write('This is a test string')\n",
    "f.close()"
   ]
  },
  {
   "cell_type": "code",
   "execution_count": 3,
   "id": "33681130",
   "metadata": {},
   "outputs": [],
   "source": [
    "import os"
   ]
  },
  {
   "cell_type": "code",
   "execution_count": 5,
   "id": "3452f000",
   "metadata": {},
   "outputs": [
    {
     "data": {
      "text/plain": [
       "'/Users/mmorelos/Desktop/Complete-Python-3-Bootcamp/12-Advanced Python Modules'"
      ]
     },
     "execution_count": 5,
     "metadata": {},
     "output_type": "execute_result"
    }
   ],
   "source": [
    "os.getcwd() # cwd = current working directory"
   ]
  },
  {
   "cell_type": "code",
   "execution_count": 6,
   "id": "304fb238",
   "metadata": {},
   "outputs": [
    {
     "data": {
      "text/plain": [
       "['Example_Top_Level',\n",
       " '08-Advanced-Python-Module-Exercise',\n",
       " 'practice.txt',\n",
       " '00-Collections-Module.ipynb',\n",
       " '06-Timing your code - timeit.ipynb',\n",
       " '03-Math-and-Random-Module.ipynb',\n",
       " '02-Datetime-Module.ipynb',\n",
       " '05-Overview-of-Regular-Expressions.ipynb',\n",
       " 'Lecture - Opening and Reading Files and Folders.ipynb',\n",
       " '01-Opening-and-Reading-Files-Folders.ipynb',\n",
       " '.ipynb_checkpoints',\n",
       " '04-Python Debugger (pdb).ipynb',\n",
       " '07-Unzipping-and-Zipping-Files.ipynb']"
      ]
     },
     "execution_count": 6,
     "metadata": {},
     "output_type": "execute_result"
    }
   ],
   "source": [
    "os.listdir()"
   ]
  },
  {
   "cell_type": "code",
   "execution_count": 8,
   "id": "5bb65da8",
   "metadata": {},
   "outputs": [
    {
     "data": {
      "text/plain": [
       "['.localized', 'Shared', 'mmorelos']"
      ]
     },
     "execution_count": 8,
     "metadata": {},
     "output_type": "execute_result"
    }
   ],
   "source": [
    "os.listdir('/Users')"
   ]
  },
  {
   "cell_type": "code",
   "execution_count": 9,
   "id": "a88310d7",
   "metadata": {},
   "outputs": [],
   "source": [
    "# move files around\n",
    "\n",
    "import shutil # shell utility module"
   ]
  },
  {
   "cell_type": "code",
   "execution_count": 10,
   "id": "d2c0f448",
   "metadata": {},
   "outputs": [
    {
     "data": {
      "text/plain": [
       "'/Users/mmorelos/practice.txt'"
      ]
     },
     "execution_count": 10,
     "metadata": {},
     "output_type": "execute_result"
    }
   ],
   "source": [
    "shutil.move('practice.txt','/Users/mmorelos') # source,destination"
   ]
  },
  {
   "cell_type": "code",
   "execution_count": 11,
   "id": "d82b3cbb",
   "metadata": {},
   "outputs": [
    {
     "data": {
      "text/plain": [
       "['.config',\n",
       " 'Music',\n",
       " '.condarc',\n",
       " '.DS_Store',\n",
       " '.CFUserTextEncoding',\n",
       " '.xonshrc',\n",
       " '.zshrc',\n",
       " 'Pictures',\n",
       " 'practice.txt',\n",
       " '.zsh_history',\n",
       " '.ipython',\n",
       " 'Desktop',\n",
       " 'Library',\n",
       " '.device.json',\n",
       " 'Google Drive',\n",
       " 'Public',\n",
       " '.tcshrc',\n",
       " '.anaconda',\n",
       " 'Movies',\n",
       " 'Applications',\n",
       " '.Trash',\n",
       " '.jupyter',\n",
       " 'Documents',\n",
       " '.vscode',\n",
       " '.bash_profile',\n",
       " 'Downloads',\n",
       " '.continuum',\n",
       " '.gitconfig',\n",
       " '.zsh_sessions',\n",
       " '.conda']"
      ]
     },
     "execution_count": 11,
     "metadata": {},
     "output_type": "execute_result"
    }
   ],
   "source": [
    "os.listdir('/Users/mmorelos')"
   ]
  },
  {
   "cell_type": "code",
   "execution_count": 12,
   "id": "6d9dd5fc",
   "metadata": {},
   "outputs": [],
   "source": [
    "# delete a file\n",
    "\n",
    "import send2trash"
   ]
  },
  {
   "cell_type": "code",
   "execution_count": 13,
   "id": "b38528e6",
   "metadata": {},
   "outputs": [
    {
     "data": {
      "text/plain": [
       "['Example_Top_Level',\n",
       " '08-Advanced-Python-Module-Exercise',\n",
       " '00-Collections-Module.ipynb',\n",
       " '06-Timing your code - timeit.ipynb',\n",
       " '03-Math-and-Random-Module.ipynb',\n",
       " '02-Datetime-Module.ipynb',\n",
       " '05-Overview-of-Regular-Expressions.ipynb',\n",
       " 'Lecture - Opening and Reading Files and Folders.ipynb',\n",
       " '01-Opening-and-Reading-Files-Folders.ipynb',\n",
       " '.ipynb_checkpoints',\n",
       " '04-Python Debugger (pdb).ipynb',\n",
       " '07-Unzipping-and-Zipping-Files.ipynb']"
      ]
     },
     "execution_count": 13,
     "metadata": {},
     "output_type": "execute_result"
    }
   ],
   "source": [
    "os.listdir()"
   ]
  },
  {
   "cell_type": "code",
   "execution_count": 14,
   "id": "42a5ab23",
   "metadata": {},
   "outputs": [
    {
     "data": {
      "text/plain": [
       "'/Users/mmorelos/Desktop/Complete-Python-3-Bootcamp/12-Advanced Python Modules/practice.txt'"
      ]
     },
     "execution_count": 14,
     "metadata": {},
     "output_type": "execute_result"
    }
   ],
   "source": [
    "shutil.move('/Users/mmorelos/practice.txt',os.getcwd())"
   ]
  },
  {
   "cell_type": "code",
   "execution_count": 15,
   "id": "2a57876a",
   "metadata": {},
   "outputs": [
    {
     "data": {
      "text/plain": [
       "['Example_Top_Level',\n",
       " '08-Advanced-Python-Module-Exercise',\n",
       " 'practice.txt',\n",
       " '00-Collections-Module.ipynb',\n",
       " '06-Timing your code - timeit.ipynb',\n",
       " '03-Math-and-Random-Module.ipynb',\n",
       " '02-Datetime-Module.ipynb',\n",
       " '05-Overview-of-Regular-Expressions.ipynb',\n",
       " 'Lecture - Opening and Reading Files and Folders.ipynb',\n",
       " '01-Opening-and-Reading-Files-Folders.ipynb',\n",
       " '.ipynb_checkpoints',\n",
       " '04-Python Debugger (pdb).ipynb',\n",
       " '07-Unzipping-and-Zipping-Files.ipynb']"
      ]
     },
     "execution_count": 15,
     "metadata": {},
     "output_type": "execute_result"
    }
   ],
   "source": [
    "os.listdir()"
   ]
  },
  {
   "cell_type": "code",
   "execution_count": 16,
   "id": "dfdc5f66",
   "metadata": {},
   "outputs": [],
   "source": [
    "send2trash.send2trash('practice.txt')"
   ]
  },
  {
   "cell_type": "code",
   "execution_count": 17,
   "id": "c9d7b00a",
   "metadata": {},
   "outputs": [
    {
     "data": {
      "text/plain": [
       "['Example_Top_Level',\n",
       " '08-Advanced-Python-Module-Exercise',\n",
       " '00-Collections-Module.ipynb',\n",
       " '06-Timing your code - timeit.ipynb',\n",
       " '03-Math-and-Random-Module.ipynb',\n",
       " '02-Datetime-Module.ipynb',\n",
       " '05-Overview-of-Regular-Expressions.ipynb',\n",
       " 'Lecture - Opening and Reading Files and Folders.ipynb',\n",
       " '01-Opening-and-Reading-Files-Folders.ipynb',\n",
       " '.ipynb_checkpoints',\n",
       " '04-Python Debugger (pdb).ipynb',\n",
       " '07-Unzipping-and-Zipping-Files.ipynb']"
      ]
     },
     "execution_count": 17,
     "metadata": {},
     "output_type": "execute_result"
    }
   ],
   "source": [
    "os.listdir()"
   ]
  },
  {
   "cell_type": "code",
   "execution_count": 18,
   "id": "7b81bb52",
   "metadata": {},
   "outputs": [],
   "source": [
    "# os.walk\n",
    "\n",
    "# directory tree generator, yields a tuple"
   ]
  },
  {
   "cell_type": "code",
   "execution_count": 19,
   "id": "6b894ead",
   "metadata": {},
   "outputs": [
    {
     "data": {
      "text/plain": [
       "'/Users/mmorelos/Desktop/Complete-Python-3-Bootcamp/12-Advanced Python Modules'"
      ]
     },
     "execution_count": 19,
     "metadata": {},
     "output_type": "execute_result"
    }
   ],
   "source": [
    "os.getcwd()"
   ]
  },
  {
   "cell_type": "code",
   "execution_count": 22,
   "id": "19d1157a",
   "metadata": {},
   "outputs": [],
   "source": [
    "file_path = '/Users/mmorelos/Desktop/Complete-Python-3-Bootcamp/12-Advanced Python Modules/Example_Top_Level'"
   ]
  },
  {
   "cell_type": "code",
   "execution_count": 24,
   "id": "6b48866b",
   "metadata": {},
   "outputs": [
    {
     "name": "stdout",
     "output_type": "stream",
     "text": [
      "Currently looking at /Users/mmorelos/Desktop/Complete-Python-3-Bootcamp/12-Advanced Python Modules/Example_Top_Level\n",
      "\n",
      "\n",
      "The subfolders are: \n",
      "\tSubfolder: Mid-Example-One\n",
      "\n",
      "\n",
      "the files are: \n",
      "\tFile: Mid-Example.txt\n",
      "\n",
      "\n",
      "Currently looking at /Users/mmorelos/Desktop/Complete-Python-3-Bootcamp/12-Advanced Python Modules/Example_Top_Level/Mid-Example-One\n",
      "\n",
      "\n",
      "The subfolders are: \n",
      "\tSubfolder: Bottom-Level-Two\n",
      "\tSubfolder: Bottom-Level-One\n",
      "\n",
      "\n",
      "the files are: \n",
      "\tFile: Mid-Level-Doc.txt\n",
      "\n",
      "\n",
      "Currently looking at /Users/mmorelos/Desktop/Complete-Python-3-Bootcamp/12-Advanced Python Modules/Example_Top_Level/Mid-Example-One/Bottom-Level-Two\n",
      "\n",
      "\n",
      "The subfolders are: \n",
      "\n",
      "\n",
      "the files are: \n",
      "\tFile: Bottom-Text-Two.txt\n",
      "\n",
      "\n",
      "Currently looking at /Users/mmorelos/Desktop/Complete-Python-3-Bootcamp/12-Advanced Python Modules/Example_Top_Level/Mid-Example-One/Bottom-Level-One\n",
      "\n",
      "\n",
      "The subfolders are: \n",
      "\n",
      "\n",
      "the files are: \n",
      "\tFile: One_Text.txt\n",
      "\n",
      "\n"
     ]
    }
   ],
   "source": [
    "for folder, sub_folders, files in os.walk(file_path):\n",
    "    print(f\"Currently looking at {folder}\")\n",
    "    print('\\n')\n",
    "    print('The subfolders are: ')\n",
    "    for sub_fold in sub_folders:\n",
    "        print(f\"\\tSubfolder: {sub_fold}\")\n",
    "    \n",
    "    print('\\n')\n",
    "    print(\"the files are: \")\n",
    "    for f in files:\n",
    "        print(f\"\\tFile: {f}\")\n",
    "    print('\\n')"
   ]
  },
  {
   "cell_type": "code",
   "execution_count": null,
   "id": "d7a4af41",
   "metadata": {},
   "outputs": [],
   "source": []
  }
 ],
 "metadata": {
  "kernelspec": {
   "display_name": "Python 3 (ipykernel)",
   "language": "python",
   "name": "python3"
  },
  "language_info": {
   "codemirror_mode": {
    "name": "ipython",
    "version": 3
   },
   "file_extension": ".py",
   "mimetype": "text/x-python",
   "name": "python",
   "nbconvert_exporter": "python",
   "pygments_lexer": "ipython3",
   "version": "3.9.12"
  }
 },
 "nbformat": 4,
 "nbformat_minor": 5
}
