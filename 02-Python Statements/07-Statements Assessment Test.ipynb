{
 "cells": [
  {
   "cell_type": "markdown",
   "metadata": {},
   "source": [
    "___\n",
    "\n",
    "<a href='https://www.udemy.com/user/joseportilla/'><img src='../Pierian_Data_Logo.png'/></a>\n",
    "___\n",
    "<center><em>Content Copyright by Pierian Data</em></center>"
   ]
  },
  {
   "cell_type": "markdown",
   "metadata": {
    "collapsed": true
   },
   "source": [
    "# Statements Assessment Test\n",
    "Let's test your knowledge!"
   ]
  },
  {
   "cell_type": "markdown",
   "metadata": {},
   "source": [
    "_____\n",
    "**Use <code>for</code>, .split(), and <code>if</code> to create a Statement that will print out words that start with 's':**"
   ]
  },
  {
   "cell_type": "code",
   "execution_count": 1,
   "metadata": {},
   "outputs": [],
   "source": [
    "st = 'Print only the words that start with s in this sentence'"
   ]
  },
  {
   "cell_type": "code",
   "execution_count": 4,
   "metadata": {},
   "outputs": [
    {
     "data": {
      "text/plain": [
       "['Print',\n",
       " 'only',\n",
       " 'the',\n",
       " 'words',\n",
       " 'that',\n",
       " 'start',\n",
       " 'with',\n",
       " 's',\n",
       " 'in',\n",
       " 'this',\n",
       " 'sentence']"
      ]
     },
     "execution_count": 4,
     "metadata": {},
     "output_type": "execute_result"
    }
   ],
   "source": [
    "st.split(\" \")"
   ]
  },
  {
   "cell_type": "code",
   "execution_count": 5,
   "metadata": {},
   "outputs": [
    {
     "name": "stdout",
     "output_type": "stream",
     "text": [
      "start\n",
      "s\n",
      "sentence\n"
     ]
    }
   ],
   "source": [
    "#Code here\n",
    "for x in st.split(\" \"):\n",
    "    if x[0]=='s':\n",
    "        print(x)"
   ]
  },
  {
   "cell_type": "markdown",
   "metadata": {},
   "source": [
    "______\n",
    "**Use range() to print all the even numbers from 0 to 10.**"
   ]
  },
  {
   "cell_type": "code",
   "execution_count": 23,
   "metadata": {},
   "outputs": [
    {
     "data": {
      "text/plain": [
       "[0, 2, 4, 6, 8, 10]"
      ]
     },
     "execution_count": 23,
     "metadata": {},
     "output_type": "execute_result"
    }
   ],
   "source": [
    "#Code Here\n",
    "\n",
    "#for x in range(11):\n",
    "#    if x%2 == 0:\n",
    "#        print(x)\n",
    "\n",
    "list(range(0,11,2))"
   ]
  },
  {
   "cell_type": "markdown",
   "metadata": {},
   "source": [
    "___\n",
    "**Use a List Comprehension to create a list of all numbers between 1 and 50 that are divisible by 3.**"
   ]
  },
  {
   "cell_type": "code",
   "execution_count": 12,
   "metadata": {},
   "outputs": [
    {
     "data": {
      "text/plain": [
       "[3, 6, 9, 12, 15, 18, 21, 24, 27, 30, 33, 36, 39, 42, 45, 48]"
      ]
     },
     "execution_count": 12,
     "metadata": {},
     "output_type": "execute_result"
    }
   ],
   "source": [
    "#Code in this cell\n",
    "mylist = [x for x in range(1,51) if x%3==0]\n",
    "mylist"
   ]
  },
  {
   "cell_type": "markdown",
   "metadata": {},
   "source": [
    "_____\n",
    "**Go through the string below and if the length of a word is even print \"even!\"**"
   ]
  },
  {
   "cell_type": "code",
   "execution_count": 13,
   "metadata": {},
   "outputs": [],
   "source": [
    "st = 'Print every word in this sentence that has an even number of letters'"
   ]
  },
  {
   "cell_type": "code",
   "execution_count": 16,
   "metadata": {},
   "outputs": [
    {
     "name": "stdout",
     "output_type": "stream",
     "text": [
      "word\n",
      "in\n",
      "this\n",
      "sentence\n",
      "that\n",
      "an\n",
      "even\n",
      "number\n",
      "of\n"
     ]
    }
   ],
   "source": [
    "#Code in this cell\n",
    "for x in st.split(\" \"):\n",
    "    if len(x)%2==0:\n",
    "        print(x)"
   ]
  },
  {
   "cell_type": "markdown",
   "metadata": {},
   "source": [
    "____\n",
    "**Write a program that prints the integers from 1 to 100. But for multiples of three print \"Fizz\" instead of the number, and for the multiples of five print \"Buzz\". For numbers which are multiples of both three and five print \"FizzBuzz\".**"
   ]
  },
  {
   "cell_type": "code",
   "execution_count": 27,
   "metadata": {},
   "outputs": [
    {
     "name": "stdout",
     "output_type": "stream",
     "text": [
      "1\n",
      "2\n",
      "FizzBuzz\n",
      "4\n",
      "Buzz\n",
      "FizzBuzz\n",
      "7\n",
      "8\n",
      "FizzBuzz\n",
      "Buzz\n",
      "11\n",
      "FizzBuzz\n",
      "13\n",
      "14\n",
      "Buzz\n",
      "16\n",
      "17\n",
      "FizzBuzz\n",
      "19\n",
      "Buzz\n",
      "FizzBuzz\n",
      "22\n",
      "23\n",
      "FizzBuzz\n",
      "Buzz\n",
      "26\n",
      "FizzBuzz\n",
      "28\n",
      "29\n",
      "Buzz\n",
      "31\n",
      "32\n",
      "FizzBuzz\n",
      "34\n",
      "Buzz\n",
      "FizzBuzz\n",
      "37\n",
      "38\n",
      "FizzBuzz\n",
      "Buzz\n",
      "41\n",
      "FizzBuzz\n",
      "43\n",
      "44\n",
      "Buzz\n",
      "46\n",
      "47\n",
      "FizzBuzz\n",
      "49\n",
      "Buzz\n",
      "FizzBuzz\n",
      "52\n",
      "53\n",
      "FizzBuzz\n",
      "Buzz\n",
      "56\n",
      "FizzBuzz\n",
      "58\n",
      "59\n",
      "Buzz\n",
      "61\n",
      "62\n",
      "FizzBuzz\n",
      "64\n",
      "Buzz\n",
      "FizzBuzz\n",
      "67\n",
      "68\n",
      "FizzBuzz\n",
      "Buzz\n",
      "71\n",
      "FizzBuzz\n",
      "73\n",
      "74\n",
      "Buzz\n",
      "76\n",
      "77\n",
      "FizzBuzz\n",
      "79\n",
      "Buzz\n",
      "FizzBuzz\n",
      "82\n",
      "83\n",
      "FizzBuzz\n",
      "Buzz\n",
      "86\n",
      "FizzBuzz\n",
      "88\n",
      "89\n",
      "Buzz\n",
      "91\n",
      "92\n",
      "FizzBuzz\n",
      "94\n",
      "Buzz\n",
      "FizzBuzz\n",
      "97\n",
      "98\n",
      "FizzBuzz\n",
      "Buzz\n"
     ]
    }
   ],
   "source": [
    "#Code in this cell\n",
    "for x in range(1,101):\n",
    "    if x%3==0 and x%5:\n",
    "        print(\"FizzBuzz\")\n",
    "    elif x%5==0:\n",
    "        print(\"Buzz\")\n",
    "    elif x%3==0:\n",
    "        print(\"Fizz\")\n",
    "    else:\n",
    "        print(x)"
   ]
  },
  {
   "cell_type": "markdown",
   "metadata": {},
   "source": [
    "____\n",
    "**Use List Comprehension to create a list of the first letters of every word in the string below:**"
   ]
  },
  {
   "cell_type": "code",
   "execution_count": 19,
   "metadata": {},
   "outputs": [],
   "source": [
    "st = 'Create a list of the first letters of every word in this string'"
   ]
  },
  {
   "cell_type": "code",
   "execution_count": 21,
   "metadata": {},
   "outputs": [
    {
     "data": {
      "text/plain": [
       "['C', 'a', 'l', 'o', 't', 'f', 'l', 'o', 'e', 'w', 'i', 't', 's']"
      ]
     },
     "execution_count": 21,
     "metadata": {},
     "output_type": "execute_result"
    }
   ],
   "source": [
    "#Code in this cell\n",
    "mylist = [x[0] for x in st.split(\" \")]\n",
    "mylist"
   ]
  },
  {
   "cell_type": "markdown",
   "metadata": {},
   "source": [
    "### Great Job!"
   ]
  }
 ],
 "metadata": {
  "kernelspec": {
   "display_name": "Python 3 (ipykernel)",
   "language": "python",
   "name": "python3"
  },
  "language_info": {
   "codemirror_mode": {
    "name": "ipython",
    "version": 3
   },
   "file_extension": ".py",
   "mimetype": "text/x-python",
   "name": "python",
   "nbconvert_exporter": "python",
   "pygments_lexer": "ipython3",
   "version": "3.9.12"
  }
 },
 "nbformat": 4,
 "nbformat_minor": 1
}
