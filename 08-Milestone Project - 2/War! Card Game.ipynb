{
 "cells": [
  {
   "cell_type": "code",
   "execution_count": 1,
   "id": "a41e8d60",
   "metadata": {},
   "outputs": [],
   "source": [
    "import random\n",
    "\n",
    "suits = ('Hearts', 'Diamonds', 'Spades', 'Clubs')\n",
    "ranks = ('Two', 'Three', 'Four', 'Five', 'Six', 'Seven', 'Eight', 'Nine', 'Ten', 'Jack', 'Queen', 'King', 'Ace')\n",
    "values = values = {'Two':2, 'Three':3, 'Four':4, 'Five':5, 'Six':6, 'Seven':7, 'Eight':8, 'Nine':9, 'Ten':10, 'Jack':10,\n",
    "             'Queen':10, 'King':10, 'Ace':11}\n",
    "\n",
    "playing = True\n",
    "\n",
    "# CARD\n",
    "# SUIT, RANK, VALUE"
   ]
  },
  {
   "cell_type": "code",
   "execution_count": 2,
   "id": "77e317ed",
   "metadata": {},
   "outputs": [],
   "source": [
    "# Card Class\n",
    "\n",
    "class Card:\n",
    "    \n",
    "    def __init__(self,suit,rank):\n",
    "        self.suit = suit\n",
    "        self.rank = rank\n",
    "        self.value = values[rank]\n",
    "        \n",
    "    def __str__(self):\n",
    "        return self.rank + \" of \" + self.suit"
   ]
  },
  {
   "cell_type": "code",
   "execution_count": 3,
   "id": "928e9c7c",
   "metadata": {},
   "outputs": [],
   "source": [
    "# Deck Class\n",
    "\n",
    "class Deck:\n",
    "    \n",
    "    def __init__(self):\n",
    "\n",
    "        self.all_cards = []\n",
    "        \n",
    "        for suit in suits: # create a rank for each suit\n",
    "            for rank in ranks:\n",
    "                # Create the card object\n",
    "                created_card = Card(suit,rank)\n",
    "                \n",
    "                self.all_cards.append(created_card)\n",
    "                \n",
    "    def shuffle(self):\n",
    "        \n",
    "        random.shuffle(self.all_cards)\n",
    "        \n",
    "    def deal_one(self):\n",
    "        \n",
    "        return self.all_cards.pop()"
   ]
  },
  {
   "cell_type": "code",
   "execution_count": 4,
   "id": "1ff6c2d3",
   "metadata": {},
   "outputs": [],
   "source": [
    "# Player Class\n",
    "\n",
    "class Player:\n",
    "    \n",
    "    def __init__(self,name):\n",
    "        \n",
    "        self.name = name\n",
    "        self.all_cards = [] # current hand of cards\n",
    "        \n",
    "    def remove_one(self):\n",
    "        return self.all_cards.pop(0)\n",
    "    \n",
    "    def add_cards(self,new_cards):\n",
    "        if type(new_cards) == type([]):\n",
    "            # List of multiple card objects\n",
    "            self.all_cards.extend(new_cards)\n",
    "        else:\n",
    "            # For a single card object\n",
    "            self.all_cards.append(new_cards)\n",
    "    \n",
    "    def __str__(self):\n",
    "        return f'Player {self.name} has {len(self.all_cards)} cards.'"
   ]
  },
  {
   "cell_type": "code",
   "execution_count": 9,
   "id": "d93649e5",
   "metadata": {},
   "outputs": [],
   "source": [
    "new_player = Player(\"Jose\")"
   ]
  },
  {
   "cell_type": "code",
   "execution_count": 10,
   "id": "6f988679",
   "metadata": {},
   "outputs": [
    {
     "name": "stdout",
     "output_type": "stream",
     "text": [
      "Player Jose has 0 cards.\n"
     ]
    }
   ],
   "source": [
    "print(new_player)"
   ]
  },
  {
   "cell_type": "code",
   "execution_count": 11,
   "id": "80c46720",
   "metadata": {},
   "outputs": [],
   "source": [
    "new_player.add_cards(mycard)"
   ]
  },
  {
   "cell_type": "code",
   "execution_count": 12,
   "id": "148dc80d",
   "metadata": {},
   "outputs": [],
   "source": [
    "new_deck = Deck()\n",
    "new_deck.shuffle()\n",
    "mycard = new_deck.deal_one()"
   ]
  },
  {
   "cell_type": "code",
   "execution_count": 13,
   "id": "13a65bff",
   "metadata": {},
   "outputs": [
    {
     "data": {
      "text/plain": [
       "<__main__.Card at 0x7fdad0fd0e20>"
      ]
     },
     "execution_count": 13,
     "metadata": {},
     "output_type": "execute_result"
    }
   ],
   "source": [
    "mycard"
   ]
  },
  {
   "cell_type": "code",
   "execution_count": 14,
   "id": "47afc753",
   "metadata": {},
   "outputs": [
    {
     "name": "stdout",
     "output_type": "stream",
     "text": [
      "Player Jose has 1 cards.\n"
     ]
    }
   ],
   "source": [
    "print(new_player)"
   ]
  },
  {
   "cell_type": "code",
   "execution_count": 15,
   "id": "868569db",
   "metadata": {},
   "outputs": [
    {
     "name": "stdout",
     "output_type": "stream",
     "text": [
      "Eight of Clubs\n"
     ]
    }
   ],
   "source": [
    "print(new_player.all_cards[0])"
   ]
  },
  {
   "cell_type": "code",
   "execution_count": 16,
   "id": "39bc3436",
   "metadata": {},
   "outputs": [],
   "source": [
    "new_player.add_cards([mycard,mycard,mycard])"
   ]
  },
  {
   "cell_type": "code",
   "execution_count": 17,
   "id": "1692a425",
   "metadata": {},
   "outputs": [
    {
     "name": "stdout",
     "output_type": "stream",
     "text": [
      "Player Jose has 4 cards.\n"
     ]
    }
   ],
   "source": [
    "print(new_player)"
   ]
  },
  {
   "cell_type": "code",
   "execution_count": 18,
   "id": "db902d73",
   "metadata": {},
   "outputs": [
    {
     "data": {
      "text/plain": [
       "<__main__.Card at 0x7fdad0fb8220>"
      ]
     },
     "execution_count": 18,
     "metadata": {},
     "output_type": "execute_result"
    }
   ],
   "source": [
    "new_player.remove_one()"
   ]
  },
  {
   "cell_type": "code",
   "execution_count": 19,
   "id": "cba8fa33",
   "metadata": {},
   "outputs": [
    {
     "name": "stdout",
     "output_type": "stream",
     "text": [
      "Player Jose has 3 cards.\n"
     ]
    }
   ],
   "source": [
    "print(new_player)"
   ]
  },
  {
   "cell_type": "markdown",
   "id": "97d74868",
   "metadata": {},
   "source": [
    "# Game Logic"
   ]
  },
  {
   "cell_type": "code",
   "execution_count": 20,
   "id": "7f8eacd7",
   "metadata": {},
   "outputs": [],
   "source": [
    "# GAME SETUP\n",
    "player_one = Player(\"One\")\n",
    "player_two = Player(\"Two\")\n",
    "\n",
    "new_deck = Deck()\n",
    "new_deck.shuffle()\n",
    "\n",
    "for x in range(26): # half of deck (52 total cards to split to 2 players)\n",
    "    player_one.add_cards(new_deck.deal_one())\n",
    "    player_two.add_cards(new_deck.deal_one())"
   ]
  },
  {
   "cell_type": "code",
   "execution_count": 21,
   "id": "a0f476a2",
   "metadata": {},
   "outputs": [
    {
     "data": {
      "text/plain": [
       "26"
      ]
     },
     "execution_count": 21,
     "metadata": {},
     "output_type": "execute_result"
    }
   ],
   "source": [
    "len(player_one.all_cards)"
   ]
  },
  {
   "cell_type": "code",
   "execution_count": 33,
   "id": "21c6e297",
   "metadata": {},
   "outputs": [],
   "source": [
    "game_on = True"
   ]
  },
  {
   "cell_type": "code",
   "execution_count": 42,
   "id": "9ebfd77a",
   "metadata": {},
   "outputs": [
    {
     "name": "stdout",
     "output_type": "stream",
     "text": [
      "Round 1: Ace of Spades vs Nine of Diamonds\n",
      " Player One cards:26\n",
      " Player Two cards:26\n",
      "Round 2: Queen of Spades vs Five of Hearts\n",
      " Player One cards:27\n",
      " Player Two cards:25\n",
      "WAR! Jack of Spades vs Jack of Clubs\n",
      "Round 3: Nine of Hearts vs Ten of Clubs\n",
      " Player One cards:21\n",
      " Player Two cards:31\n",
      "Round 4: Eight of Hearts vs King of Diamonds\n",
      " Player One cards:20\n",
      " Player Two cards:32\n",
      "Round 5: Three of Diamonds vs Queen of Hearts\n",
      " Player One cards:19\n",
      " Player Two cards:33\n",
      "Round 6: Two of Hearts vs Seven of Diamonds\n",
      " Player One cards:18\n",
      " Player Two cards:34\n",
      "Round 7: Ten of Hearts vs Five of Clubs\n",
      " Player One cards:19\n",
      " Player Two cards:33\n",
      "WAR! Four of Clubs vs Four of Diamonds\n",
      "Round 8: Seven of Clubs vs Queen of Diamonds\n",
      " Player One cards:13\n",
      " Player Two cards:39\n",
      "Round 9: Nine of Clubs vs Five of Diamonds\n",
      " Player One cards:14\n",
      " Player Two cards:38\n",
      "Round 10: Ace of Spades vs Eight of Spades\n",
      " Player One cards:15\n",
      " Player Two cards:37\n",
      "Round 11: Seven of Hearts vs Two of Diamonds\n",
      " Player One cards:16\n",
      " Player Two cards:36\n",
      "Round 12: Ten of Diamonds vs Three of Spades\n",
      " Player One cards:17\n",
      " Player Two cards:35\n",
      "Round 13: Two of Clubs vs Seven of Spades\n",
      " Player One cards:16\n",
      " Player Two cards:36\n",
      "Round 14: King of Hearts vs Two of Spades\n",
      " Player One cards:17\n",
      " Player Two cards:35\n",
      "Round 15: Four of Spades vs Ace of Clubs\n",
      " Player One cards:16\n",
      " Player Two cards:36\n",
      "Round 16: Nine of Spades vs Six of Hearts\n",
      " Player One cards:17\n",
      " Player Two cards:35\n",
      "WAR! Six of Diamonds vs Six of Spades\n",
      "WAR! Nine of Clubs vs Nine of Diamonds\n",
      "Round 17: Two of Diamonds vs Eight of Clubs\n",
      " Player One cards:6\n",
      " Player Two cards:46\n",
      "Round 18: Ten of Diamonds vs Four of Hearts\n",
      " Player One cards:7\n",
      " Player Two cards:45\n",
      "Round 19: Three of Spades vs Ten of Clubs\n",
      " Player One cards:6\n",
      " Player Two cards:46\n",
      "Round 20: King of Hearts vs Eight of Hearts\n",
      " Player One cards:7\n",
      " Player Two cards:45\n",
      "Round 21: Two of Spades vs King of Diamonds\n",
      " Player One cards:6\n",
      " Player Two cards:46\n",
      "Round 22: Nine of Spades vs Three of Diamonds\n",
      " Player One cards:7\n",
      " Player Two cards:45\n",
      "Round 23: Six of Hearts vs Queen of Hearts\n",
      " Player One cards:6\n",
      " Player Two cards:46\n",
      "Round 24: Ten of Diamonds vs Two of Hearts\n",
      " Player One cards:7\n",
      " Player Two cards:45\n",
      "Round 25: Four of Hearts vs Seven of Diamonds\n",
      " Player One cards:6\n",
      " Player Two cards:46\n",
      "Round 26: King of Hearts vs Four of Clubs\n",
      " Player One cards:7\n",
      " Player Two cards:45\n",
      "Round 27: Eight of Hearts vs Three of Clubs\n",
      " Player One cards:8\n",
      " Player Two cards:44\n",
      "Round 28: Nine of Spades vs Queen of Clubs\n",
      " Player One cards:7\n",
      " Player Two cards:45\n",
      "Round 29: Three of Diamonds vs Ace of Hearts\n",
      " Player One cards:6\n",
      " Player Two cards:46\n",
      "Round 30: Ten of Diamonds vs Ace of Diamonds\n",
      " Player One cards:5\n",
      " Player Two cards:47\n",
      "Round 31: Two of Hearts vs Seven of Clubs\n",
      " Player One cards:4\n",
      " Player Two cards:48\n",
      "Round 32: King of Hearts vs Four of Diamonds\n",
      " Player One cards:5\n",
      " Player Two cards:47\n",
      "Round 33: Four of Clubs vs Jack of Hearts\n",
      " Player One cards:4\n",
      " Player Two cards:48\n",
      "Round 34: Eight of Hearts vs Jack of Diamonds\n",
      " Player One cards:3\n",
      " Player Two cards:49\n",
      "Round 35: Three of Clubs vs King of Spades\n",
      " Player One cards:2\n",
      " Player Two cards:50\n",
      "WAR! King of Hearts vs King of Clubs\n",
      "1 cards left, Player One unable to declare war\n",
      "PLAYER TWO WINS!\n"
     ]
    }
   ],
   "source": [
    "# GAME SETUP\n",
    "player_one = Player(\"One\")\n",
    "player_two = Player(\"Two\")\n",
    "\n",
    "new_deck = Deck()\n",
    "new_deck.shuffle()\n",
    "\n",
    "for x in range(26): # half of deck (52 total cards to split to 2 players)\n",
    "    player_one.add_cards(new_deck.deal_one())\n",
    "    player_two.add_cards(new_deck.deal_one())\n",
    "\n",
    "game_on = True\n",
    "\n",
    "# while game_on\n",
    "round_num = 0\n",
    "\n",
    "while game_on:\n",
    "    round_num += 1 # count of rounds of the game\n",
    "    print(f\"Round {round_num}: {player_one_cards[-1]} vs {player_two_cards[-1]}\\n Player One cards:{len(player_one.all_cards)}\\n Player Two cards:{len(player_two.all_cards)}\")\n",
    "    \n",
    "    if len(player_one.all_cards) == 0:\n",
    "        print('Player One, out of cards! Player Two Wins')\n",
    "        game_on = False\n",
    "        break\n",
    "    \n",
    "    if len(player_two.all_cards) == 0:\n",
    "        print('Player Two, out of cards! Player One Wins')\n",
    "        game_on = False\n",
    "        break\n",
    "        \n",
    "    # START A NEW ROUND\n",
    "    player_one_cards = [] # current cards in play\n",
    "    player_one_cards.append(player_one.remove_one())\n",
    "    \n",
    "    player_two_cards = []\n",
    "    player_two_cards.append(player_two.remove_one())\n",
    "    \n",
    "    at_war = True\n",
    "    \n",
    "    while at_war:\n",
    "        if player_one_cards[-1].value > player_two_cards[-1].value:\n",
    "            \n",
    "            player_one.add_cards(player_one_cards)\n",
    "            player_one.add_cards(player_two_cards)\n",
    "        \n",
    "            at_war = False\n",
    "            \n",
    "        elif player_one_cards[-1].value < player_two_cards[-1].value:\n",
    "            \n",
    "            player_two.add_cards(player_one_cards)\n",
    "            player_two.add_cards(player_two_cards)\n",
    "            \n",
    "            at_war = False\n",
    "        \n",
    "        else:\n",
    "            print(f'WAR! {player_one_cards[-1]} vs {player_two_cards[-1]}')\n",
    "            \n",
    "            if len(player_one.all_cards) < 5:\n",
    "                print(f\"{len(player_one.all_cards)} cards left, Player One unable to declare war\")\n",
    "                print(\"PLAYER TWO WINS!\")\n",
    "                game_on = False\n",
    "                break\n",
    "            \n",
    "            elif len(player_two.all_cards) < 5:\n",
    "                print(f\"{len(player_two.all_cards)} cards left, Player Two unable to declare war\")\n",
    "                print(\"PLAYER ONE WINS!\")\n",
    "                game_on = False\n",
    "                break\n",
    "            \n",
    "            else:\n",
    "                for num in range(5):\n",
    "                    player_one_cards.append(player_one.remove_one())\n",
    "                    player_two_cards.append(player_two.remove_one())"
   ]
  },
  {
   "cell_type": "code",
   "execution_count": null,
   "id": "414092da",
   "metadata": {},
   "outputs": [],
   "source": []
  },
  {
   "cell_type": "code",
   "execution_count": null,
   "id": "206d1317",
   "metadata": {},
   "outputs": [],
   "source": []
  }
 ],
 "metadata": {
  "kernelspec": {
   "display_name": "Python 3 (ipykernel)",
   "language": "python",
   "name": "python3"
  },
  "language_info": {
   "codemirror_mode": {
    "name": "ipython",
    "version": 3
   },
   "file_extension": ".py",
   "mimetype": "text/x-python",
   "name": "python",
   "nbconvert_exporter": "python",
   "pygments_lexer": "ipython3",
   "version": "3.9.12"
  }
 },
 "nbformat": 4,
 "nbformat_minor": 5
}
